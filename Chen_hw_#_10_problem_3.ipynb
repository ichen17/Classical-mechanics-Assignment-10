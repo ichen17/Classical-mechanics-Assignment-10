{
 "cells": [
  {
   "cell_type": "markdown",
   "metadata": {},
   "source": [
    "$\\{a,a^{*}\\}=\\frac{\\partial a}{\\partial q}\\frac{\\partial a^{*}}{\\partial p}-\\frac{\\partial a^{*}}{\\partial q}\\frac{\\partial a}{\\partial p}$\n",
    "\n",
    "$\\{a,a^{*}\\}=-i\\sqrt{\\frac{m\\omega}{2}}\\sqrt{\\frac{1}{2m\\omega}}-i\\sqrt{\\frac{m\\omega}{2}}\\sqrt{\\frac{1}{2m\\omega}}=-i$\n",
    "\n",
    "Because $\\left\\{ Q,P\\right\\} =1$, \n",
    "\n",
    "$P=ia^{*}$\n",
    "\n",
    "$Q=\\frac{m\\omega q+ip}{\\sqrt{2m\\omega}}e^{i\\omega t}$\n",
    "\n",
    "$P=\\frac{im\\omega q+p}{\\sqrt{2m\\omega}}e^{-i\\omega t}$\n",
    "\n",
    "$q=\\frac{Qe^{-i\\omega t}-iPe^{i\\omega t}}{\\sqrt{2m\\omega}}$\n",
    "\n",
    "$p=\\sqrt{\\frac{m\\omega}{2}}\\left(-iQe^{-i\\omega t}+Pe^{i\\omega t}\\right)$\n",
    "\n",
    "The Hamiltonian is\n",
    "\n",
    "$H=\\frac{p^{2}}{2m}+\\frac{1}{2}m\\omega^{2}q^{2}$\n",
    "\n",
    "The Kamiltonian is\n",
    "\n",
    "$K\\left(Q,P,t\\right)=H+\\frac{\\partial F}{\\partial t}$\n",
    "\n",
    "The generating function is\n",
    "\n",
    "$F=-i\\sqrt{2m\\omega}Qqe^{-i\\omega t}+i\\frac{Q^{2}}{2}e^{-2i\\omega t}+im\\omega\\frac{q^{2}}{2}$\n",
    "\n",
    "Therefore Kamiltonian is\n",
    "\n",
    "$K\\left(Q,P,t\\right)=0$\n",
    "\n",
    "Now, the Hamiltonian is added by the anharmonic term $\\Delta H=\\frac{1}{4}m\\beta q^{4}$\n",
    "\n",
    "$\\left\\langle \\Delta H\\left(P,Q\\right)\\right\\rangle =-\\frac{6}{4}m\\beta\\left(\\frac{Q^{2}P^{2}}{4m^{2}\\omega^{2}}\\right)$\n",
    "\n",
    "The Kamiltonian combined with the average anharmonic term is\n",
    "\n",
    "$K_{new}\\left(Q,P,t\\right)=0-\\frac{3}{8}\\frac{\\beta Q^{2}P^{2}}{m\\omega}$\n",
    "\n",
    "$\\dot{P}=-\\frac{\\partial K_{new}\\left(Q,P,t\\right)}{\\partial Q}=\\frac{3}{4}\\frac{\\beta QP^{2}}{m\\omega}$\n",
    "\n",
    "$\\dot{Q}=\\frac{\\partial K_{new}\\left(Q,P,t\\right)}{\\partial P}=-\\frac{3}{4}\\frac{\\beta Q^{2}P}{m\\omega}$\n",
    "\n",
    "Combining two equations above, we can get\n",
    "\n",
    "$\\dot{\\left(QP\\right)}=Q\\dot{P}+P\\dot{Q}=0$\n",
    "\n",
    "$\\dot{P}=\\frac{3}{4}\\frac{\\beta Q_{0}P_{0}}{m\\omega}P$\n",
    "\n",
    "$\\dot{Q}=-\\frac{3}{4}\\frac{\\beta Q_{0}P_{0}}{m\\omega}Q$\n",
    "\n",
    "$P=P_{0}\\exp\\left[\\frac{3}{4}\\frac{\\beta Q_{0}P_{0}}{m\\omega}t\\right]=P_{0}\\exp\\left[i\\frac{3}{4}\\frac{\\beta a_{0}a_{0}^{*}}{m\\omega}t\\right]$\n",
    "\n",
    "$Q=Q_{0}\\exp\\left[-\\frac{3}{4}\\frac{\\beta Q_{0}P_{0}}{m\\omega}t\\right]=Q_{0}\\exp\\left[-i\\frac{3}{4}\\frac{\\beta a_{0}a_{0}^{*}}{m\\omega}t\\right]$"
   ]
  },
  {
   "cell_type": "code",
   "execution_count": null,
   "metadata": {},
   "outputs": [],
   "source": []
  }
 ],
 "metadata": {
  "kernelspec": {
   "display_name": "Python 3",
   "language": "python",
   "name": "python3"
  },
  "language_info": {
   "codemirror_mode": {
    "name": "ipython",
    "version": 3
   },
   "file_extension": ".py",
   "mimetype": "text/x-python",
   "name": "python",
   "nbconvert_exporter": "python",
   "pygments_lexer": "ipython3",
   "version": "3.8.0"
  }
 },
 "nbformat": 4,
 "nbformat_minor": 2
}
